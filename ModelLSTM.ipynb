{
 "cells": [
  {
   "cell_type": "code",
   "execution_count": 1,
   "id": "08b15671",
   "metadata": {},
   "outputs": [],
   "source": [
    "import numpy as np\n",
    "import pandas as pd\n",
    "import matplotlib.pyplot as plt\n",
    "import tensorflow as tf\n",
    "from tensorflow import keras\n",
    "from tensorflow.keras.models import Sequential\n",
    "from tensorflow.keras.layers import Dense, Input, LSTM\n",
    "from numpy import argmax\n",
    "from sklearn.preprocessing import LabelEncoder\n",
    "from sklearn.preprocessing import OneHotEncoder\n",
    "from tensorflow.keras.utils import to_categorical\n",
    "from sklearn.preprocessing import MinMaxScaler\n",
    "from keras.metrics import mean_squared_error\n",
    "import seaborn as sns"
   ]
  },
  {
   "cell_type": "markdown",
   "id": "af7ada9d",
   "metadata": {},
   "source": [
    "## Прогнозирование временного ряда моделью LSTM"
   ]
  },
  {
   "cell_type": "markdown",
   "id": "91ef410f",
   "metadata": {},
   "source": [
    "__Функция преобразования данных для контролируемой задачи обучения__"
   ]
  },
  {
   "cell_type": "code",
   "execution_count": 2,
   "id": "67c1b754",
   "metadata": {},
   "outputs": [],
   "source": [
    "# функция преобразования последовательности для контролируемой задачи обучения\n",
    "def timeseries_to_supervised(data, lag=1):\n",
    "    df = pd.DataFrame(data)\n",
    "    columns = [df.shift(i) for i in range(1, lag+1)]\n",
    "    columns.append(df)\n",
    "    df = pd.concat(columns, axis=1)\n",
    "    df.fillna(0, inplace=True)\n",
    "    return df"
   ]
  },
  {
   "cell_type": "markdown",
   "id": "84b121d4",
   "metadata": {},
   "source": [
    "__Функции преобразования ряда в стационарный__"
   ]
  },
  {
   "cell_type": "code",
   "execution_count": 3,
   "id": "523cc495",
   "metadata": {},
   "outputs": [],
   "source": [
    "# функция создания дифференцированного ряда (убираем тренд и сезонность)\n",
    "def difference(dataset, interval=1):\n",
    "    diff = list()\n",
    "    for i in range(interval, len(dataset)):\n",
    "        value = dataset[i] - dataset[i - interval]\n",
    "        diff.append(value)\n",
    "    return pd.Series(diff)"
   ]
  },
  {
   "cell_type": "code",
   "execution_count": 4,
   "id": "05f56e5b",
   "metadata": {},
   "outputs": [],
   "source": [
    "# инвертировать разностное значение (возвращаем удаленную компоненту ряда)\n",
    "def inverse_difference(history, yhat, interval=1):\n",
    "    return yhat + history[-interval]"
   ]
  },
  {
   "cell_type": "markdown",
   "id": "8072b141",
   "metadata": {},
   "source": [
    "__Функция масштабирования обучающих и тестовых данных к [-1,1]__"
   ]
  },
  {
   "cell_type": "code",
   "execution_count": 5,
   "id": "68e66397",
   "metadata": {},
   "outputs": [],
   "source": [
    "# функция масштабирования\n",
    "def scale(train, test):\n",
    "    scaler = MinMaxScaler(feature_range=(-1, 1))\n",
    "    scaler = scaler.fit(train)\n",
    "    train = train.reshape(train.shape[0], train.shape[1])\n",
    "    train_scaled = scaler.transform(train)\n",
    "    test = test.reshape(test.shape[0], test.shape[1])\n",
    "    test_scaled = scaler.transform(test)\n",
    "    return scaler, train_scaled, test_scaled"
   ]
  },
  {
   "cell_type": "markdown",
   "id": "155b7fd1",
   "metadata": {},
   "source": [
    "__Функция обратного масштабирования для прогнозируемого значения__"
   ]
  },
  {
   "cell_type": "code",
   "execution_count": 25,
   "id": "7aaed7c2",
   "metadata": {},
   "outputs": [],
   "source": [
    "# инвертирование масштабирования\n",
    "def invert_scale(scaler, X, value):\n",
    "    new_row = X[0].tolist() + [value]\n",
    "    array = np.array(new_row).reshape(1,-1)\n",
    "    inverted = scaler.inverse_transform(array)\n",
    "    return inverted[0, -1]"
   ]
  },
  {
   "cell_type": "markdown",
   "id": "3765c0a3",
   "metadata": {},
   "source": [
    "__Функция обратного масштабирования для прогноза на n шагов вперед__"
   ]
  },
  {
   "cell_type": "code",
   "execution_count": 7,
   "id": "3e711cf9",
   "metadata": {},
   "outputs": [],
   "source": [
    "# инвертирование масштабирования\n",
    "def invert_scale_nStep(scaler, X, value):\n",
    "    new_row = X[0,0].tolist() + [yhat]\n",
    "    array = np.array(new_row).reshape(1,-1)\n",
    "    inverted = scaler.inverse_transform(array)\n",
    "    return inverted[0, -1]"
   ]
  },
  {
   "cell_type": "markdown",
   "id": "5fb03fc6",
   "metadata": {},
   "source": [
    "__Функция подгонки сети LSTM к данным обучения__"
   ]
  },
  {
   "cell_type": "markdown",
   "id": "658d9915",
   "metadata": {},
   "source": [
    "По умолчанию уровень LSTM в Keras поддерживает состояние между данными в одном пакете. Пакет данных-это фиксированное количество строк из обучающего набора данных, которое определяет, сколько шаблонов нужно обработать перед обновлением весов сети. Состояние в слое LSTM между пакетами очищается по умолчанию, поэтому мы должны сделать LSTM с сохранением состояния. Это дает нам контроль над тем, когда состояние слоя LSTM очищается, вызывая функцию reset_states ()."
   ]
  },
  {
   "cell_type": "code",
   "execution_count": 8,
   "id": "7a4e700e",
   "metadata": {},
   "outputs": [],
   "source": [
    "# функция обучения модели LSTM\n",
    "def fit_lstm(x_train, y_train, batch_size, nb_epoch, neurons):\n",
    "    # формируем модель LSTM    \n",
    "    model = Sequential()\n",
    "    model.add(LSTM(neurons, batch_input_shape=(batch_size, x_train.shape[1], x_train.shape[2]), stateful=True))\n",
    "    model.add(Dense(1))\n",
    "    model.compile(loss='mean_squared_error', optimizer='adam')\n",
    "    # делаем сохраниение состояния LSTM между пакетами в рамках i-ой эпохи\n",
    "    # затем на новой эпохе мы обновляем веса сети и очищаем состояние LSTM на новой эпохе     \n",
    "    for i in range(nb_epoch):\n",
    "        model.fit(x_train, y_train, epochs=1, batch_size=batch_size, verbose=0, shuffle=False)\n",
    "        model.reset_states()\n",
    "    return model"
   ]
  },
  {
   "cell_type": "markdown",
   "id": "b40c290b",
   "metadata": {},
   "source": [
    "__Функция одноэтапного прогноза__"
   ]
  },
  {
   "cell_type": "code",
   "execution_count": 9,
   "id": "283947e9",
   "metadata": {},
   "outputs": [],
   "source": [
    "# функция одноэтапного прогноза\n",
    "def forecast_lstm(model, batch_size, X):\n",
    "    X = X.reshape((1, 1, X.shape[1]))\n",
    "    yhat = model.predict(X, batch_size=batch_size)\n",
    "    return yhat[0,0]"
   ]
  },
  {
   "cell_type": "markdown",
   "id": "25c1ac0a",
   "metadata": {},
   "source": [
    "__Функция одноэтапного прогноза на n шагов вперед__"
   ]
  },
  {
   "cell_type": "code",
   "execution_count": 10,
   "id": "78c85db8",
   "metadata": {},
   "outputs": [],
   "source": [
    "# функция одноэтапного прогноза на n шагов вперед\n",
    "def forecast_lstm_nStep(model, batch_size, X):\n",
    "    yhat = model.predict(X, batch_size=batch_size)\n",
    "    return yhat[0,0]"
   ]
  },
  {
   "cell_type": "markdown",
   "id": "79df2e5f",
   "metadata": {},
   "source": [
    "__Оценка модели (RMSE)__"
   ]
  },
  {
   "cell_type": "code",
   "execution_count": 11,
   "id": "4dda782b",
   "metadata": {},
   "outputs": [],
   "source": [
    "def measure_rmse(actual, predicted):\n",
    "    return np.sqrt(mean_squared_error(actual, predicted))"
   ]
  },
  {
   "cell_type": "markdown",
   "id": "047ef975",
   "metadata": {},
   "source": [
    "### Этапы"
   ]
  },
  {
   "cell_type": "markdown",
   "id": "955aff9e",
   "metadata": {},
   "source": [
    "__1. Читаем временной ряд__"
   ]
  },
  {
   "cell_type": "code",
   "execution_count": 13,
   "id": "1d1afdcb",
   "metadata": {},
   "outputs": [
    {
     "data": {
      "text/plain": [
       "(                    All\n",
       " 2016-01-31  1239.807717\n",
       " 2016-02-29  1082.035863\n",
       " 2016-03-31  1104.730841\n",
       " 2016-04-30   897.962429\n",
       " 2016-05-31   840.153646,\n",
       " array([1239.807717, 1082.035863, 1104.730841,  897.962429,  840.153646]),\n",
       " (60, 1),\n",
       " (60,))"
      ]
     },
     "execution_count": 13,
     "metadata": {},
     "output_type": "execute_result"
    }
   ],
   "source": [
    "df = pd.read_excel(\"D:/Datasets/regression/all_fact16-20.xlsx\", engine=\"openpyxl\")\n",
    "data = df['all'].values\n",
    "\n",
    "# задаем индекс временного ряда\n",
    "index_series = pd.date_range('2016-01-31', freq='M', periods=60)\n",
    "\n",
    "# 1. данные для графика (преобразуем в фрейм данных с нужным индексом)\n",
    "series_graph = pd.DataFrame({'All':data[:60]}, index=index_series)\n",
    "# 2. данные для моделирования\n",
    "series = series_graph['All'].values\n",
    "\n",
    "series_graph.head(), series[:5], series_graph.shape, series.shape"
   ]
  },
  {
   "cell_type": "markdown",
   "id": "67a78d43",
   "metadata": {},
   "source": [
    "__2. Преобразование ряда в стационарный__"
   ]
  },
  {
   "cell_type": "code",
   "execution_count": 14,
   "id": "3916c15f",
   "metadata": {},
   "outputs": [
    {
     "data": {
      "text/plain": [
       "(0     2.585592\n",
       " 1    69.877391\n",
       " 2   -16.514634\n",
       " 3    76.689551\n",
       " 4    31.699208\n",
       " dtype: float64,\n",
       " (48,))"
      ]
     },
     "execution_count": 14,
     "metadata": {},
     "output_type": "execute_result"
    }
   ],
   "source": [
    "# ПАРАМЕТР СЕЗОННОЙ СОСТАВЛЯЮЩЕЙ (ДЛИТЕЛЬНОСТЬ СЕЗОНА)\n",
    "weigth_season = 12\n",
    "# ПАРАМЕТР СКОЛЬЗЯЩЕГО ОКНА (ШИРИНА БАЗОВОГО ЦИКЛА ВО ВРЕМЕННОМ РЯДУ)\n",
    "window = 4\n",
    "\n",
    "raw_values = series\n",
    "diff_values = difference(raw_values, weigth_season)\n",
    "diff_values.head(), diff_values.shape"
   ]
  },
  {
   "cell_type": "code",
   "execution_count": 16,
   "id": "a086a96f",
   "metadata": {},
   "outputs": [
    {
     "data": {
      "text/plain": [
       "[<matplotlib.lines.Line2D at 0x258e1469cd0>]"
      ]
     },
     "execution_count": 16,
     "metadata": {},
     "output_type": "execute_result"
    },
    {
     "data": {
      "image/png": "[encoded data removed]",
      "text/plain": [
       "<Figure size 720x360 with 1 Axes>"
      ]
     },
     "metadata": {
      "needs_background": "light"
     },
     "output_type": "display_data"
    }
   ],
   "source": [
    "# график дифференцированного ряда\n",
    "fig, ax = plt.subplots(figsize=(10,5))\n",
    "ax.grid()\n",
    "ax.set_title('Дифференцированный временной ряд')\n",
    "ax.plot(diff_values, color='green')"
   ]
  },
  {
   "cell_type": "markdown",
   "id": "a35fb9ec",
   "metadata": {},
   "source": [
    "__3. Преобразование данных для контролируемой задачи обучения__"
   ]
  },
  {
   "cell_type": "code",
   "execution_count": 17,
   "id": "c6cc78f8",
   "metadata": {},
   "outputs": [
    {
     "data": {
      "text/plain": [
       "(array([[  0.        ,   0.        ,   0.        ,   0.        ,\n",
       "           2.585592  ],\n",
       "        [  2.585592  ,   0.        ,   0.        ,   0.        ,\n",
       "          69.877391  ],\n",
       "        [ 69.877391  ,   2.585592  ,   0.        ,   0.        ,\n",
       "         -16.51463408],\n",
       "        [-16.51463408,  69.877391  ,   2.585592  ,   0.        ,\n",
       "          76.689551  ],\n",
       "        [ 76.689551  , -16.51463408,  69.877391  ,   2.585592  ,\n",
       "          31.699208  ],\n",
       "        [ 31.699208  ,  76.689551  , -16.51463408,  69.877391  ,\n",
       "         -57.662426  ],\n",
       "        [-57.662426  ,  31.699208  ,  76.689551  , -16.51463408,\n",
       "         -16.70597504],\n",
       "        [-16.70597504, -57.662426  ,  31.699208  ,  76.689551  ,\n",
       "           5.25275022],\n",
       "        [  5.25275022, -16.70597504, -57.662426  ,  31.699208  ,\n",
       "         -33.94016888],\n",
       "        [-33.94016888,   5.25275022, -16.70597504, -57.662426  ,\n",
       "         -35.60657268]]),\n",
       " (48, 5))"
      ]
     },
     "execution_count": 17,
     "metadata": {},
     "output_type": "execute_result"
    }
   ],
   "source": [
    "supervised = timeseries_to_supervised(diff_values, window)\n",
    "supervised_values = supervised.values\n",
    "supervised_values[:10], supervised_values.shape"
   ]
  },
  {
   "cell_type": "markdown",
   "id": "982577f4",
   "metadata": {},
   "source": [
    "__4. Разделение данных на обучающие и тестовые данные__"
   ]
  },
  {
   "cell_type": "code",
   "execution_count": 18,
   "id": "c8f43c8c",
   "metadata": {},
   "outputs": [
    {
     "data": {
      "text/plain": [
       "((32, 5), (12, 5))"
      ]
     },
     "execution_count": 18,
     "metadata": {},
     "output_type": "execute_result"
    }
   ],
   "source": [
    "train, test = supervised_values[window:-weigth_season], supervised_values[-weigth_season:]\n",
    "train.shape, test.shape"
   ]
  },
  {
   "cell_type": "markdown",
   "id": "0eb16387",
   "metadata": {},
   "source": [
    "__5. Преобразование масштаба данных__"
   ]
  },
  {
   "cell_type": "code",
   "execution_count": 19,
   "id": "f87230d7",
   "metadata": {},
   "outputs": [
    {
     "data": {
      "text/plain": [
       "(array([[ 0.40637718, -0.12707516,  0.36738792, -0.01775538,  0.14887583],\n",
       "        [ 0.14887583,  0.40637718, -0.12707516,  0.36738792, -0.36258374],\n",
       "        [-0.36258374,  0.14887583,  0.40637718, -0.12707516, -0.12817029],\n",
       "        [-0.12817029, -0.36258374,  0.14887583,  0.40637718, -0.00248996],\n",
       "        [-0.00248996, -0.12817029, -0.36258374,  0.14887583, -0.22680986]]),\n",
       " (32, 5),\n",
       " array([[-0.5134372 , -0.45591813, -0.15582713, -0.07262916, -0.55804049],\n",
       "        [-0.55804049, -0.5134372 , -0.45591813, -0.15582713, -0.18474575],\n",
       "        [-0.18474575, -0.55804049, -0.5134372 , -0.45591813, -0.54677646],\n",
       "        [-0.54677646, -0.18474575, -0.55804049, -0.5134372 , -0.28833121],\n",
       "        [-0.28833121, -0.54677646, -0.18474575, -0.55804049, -0.26026724]]),\n",
       " (12, 5))"
      ]
     },
     "execution_count": 19,
     "metadata": {},
     "output_type": "execute_result"
    }
   ],
   "source": [
    "# в итоге получили набор train_scaled который будет разделен на (X, y) для обучения\n",
    "# и test_scaled набор для тестирования\n",
    "scaler, train_scaled, test_scaled = scale(train, test)\n",
    "train_scaled[:5], train_scaled.shape, test_scaled[:5], test_scaled.shape"
   ]
  },
  {
   "cell_type": "markdown",
   "id": "392092e6",
   "metadata": {},
   "source": [
    "__6. Разделение на выборки данных для контролируемого обучения (с преобразованием в тензоры)__"
   ]
  },
  {
   "cell_type": "code",
   "execution_count": 20,
   "id": "b94ae7b5",
   "metadata": {},
   "outputs": [
    {
     "data": {
      "text/plain": [
       "(array([[[ 0.40637718, -0.12707516,  0.36738792, -0.01775538]],\n",
       " \n",
       "        [[ 0.14887583,  0.40637718, -0.12707516,  0.36738792]],\n",
       " \n",
       "        [[-0.36258374,  0.14887583,  0.40637718, -0.12707516]],\n",
       " \n",
       "        [[-0.12817029, -0.36258374,  0.14887583,  0.40637718]],\n",
       " \n",
       "        [[-0.00248996, -0.12817029, -0.36258374,  0.14887583]]]),\n",
       " array([[[ 0.14887583]],\n",
       " \n",
       "        [[-0.36258374]],\n",
       " \n",
       "        [[-0.12817029]],\n",
       " \n",
       "        [[-0.00248996]],\n",
       " \n",
       "        [[-0.22680986]]]),\n",
       " (32, 1, 4),\n",
       " (32, 1, 1),\n",
       " array([[[-0.5134372 , -0.45591813, -0.15582713, -0.07262916]],\n",
       " \n",
       "        [[-0.55804049, -0.5134372 , -0.45591813, -0.15582713]],\n",
       " \n",
       "        [[-0.18474575, -0.55804049, -0.5134372 , -0.45591813]],\n",
       " \n",
       "        [[-0.54677646, -0.18474575, -0.55804049, -0.5134372 ]],\n",
       " \n",
       "        [[-0.28833121, -0.54677646, -0.18474575, -0.55804049]]]),\n",
       " array([[[-0.55804049]],\n",
       " \n",
       "        [[-0.18474575]],\n",
       " \n",
       "        [[-0.54677646]],\n",
       " \n",
       "        [[-0.28833121]],\n",
       " \n",
       "        [[-0.26026724]]]),\n",
       " (12, 1, 4),\n",
       " (12, 1, 1))"
      ]
     },
     "execution_count": 20,
     "metadata": {},
     "output_type": "execute_result"
    }
   ],
   "source": [
    "# данные для обучения модели\n",
    "x_train = train_scaled[:,0:-1]\n",
    "x_train = x_train.reshape(x_train.shape[0], 1, x_train.shape[1])\n",
    "\n",
    "y_train = train_scaled[:,-1]\n",
    "y_train = y_train.reshape(y_train.shape[0], 1, 1)\n",
    "\n",
    "# данные для тестирования\n",
    "x_test = test_scaled[:,0:-1]\n",
    "x_test = x_test.reshape(x_test.shape[0], 1, x_test.shape[1])\n",
    "\n",
    "y_test = test_scaled[:,-1]\n",
    "y_test = y_test.reshape(y_test.shape[0], 1, 1)\n",
    "\n",
    "x_train[:5], y_train[:5], x_train.shape, y_train.shape, x_test[:5], y_test[:5], x_test.shape, y_test.shape"
   ]
  },
  {
   "cell_type": "markdown",
   "id": "41742c87",
   "metadata": {},
   "source": [
    "__7.1 Обучениеи и оценка модели__"
   ]
  },
  {
   "cell_type": "code",
   "execution_count": 27,
   "id": "16af16b6",
   "metadata": {},
   "outputs": [],
   "source": [
    "'''\n",
    "параметры: \n",
    "x_train, y_train = X, y,\n",
    "batch_size = размер батча,\n",
    "epochs = количество эпох, \n",
    "lstm_cell = количество LSTM ячеек, \n",
    "raw_values = исходный временной ряд\n",
    "test_scaled_length = длина строки тестовой выборки\n",
    "weigth_season = длительность сезона\n",
    "\n",
    "'''\n",
    "def learn_model(x_train, y_train, batch_size, epochs, lstm_cell, raw_values, test_scaled_length, weigth_season):\n",
    "    # обучение модели    \n",
    "    lstm_model = fit_lstm(x_train, y_train, batch_size, epochs, lstm_cell)\n",
    "    \n",
    "    error_scores = list()\n",
    "    predictions = list()\n",
    "    for i in range(test_scaled_length):\n",
    "        # сделать одноэтапный прогноз (прогноз по конкретному значению из тестовой выборки)\n",
    "        X, y = x_test[i], y_test[i]\n",
    "        yhat = forecast_lstm(lstm_model, 1, X)\n",
    "        # инвертировать масштабирование\n",
    "        yhat = invert_scale(scaler, X, yhat)\n",
    "        # инвертировать дифференцирование\n",
    "        yhat = inverse_difference(raw_values, yhat, test_scaled_length+1-i)\n",
    "        # запись прогноза в список\n",
    "        predictions.append(yhat)\n",
    "    # оценка модели\n",
    "    rmse = np.sqrt(mean_squared_error(raw_values[-weigth_season:], predictions))\n",
    "    result_rmse = pd.Series({\"Оценка модели на тестовой выборке: RMSE\": rmse})\n",
    "    return result_rmse, predictions"
   ]
  },
  {
   "cell_type": "code",
   "execution_count": 29,
   "id": "44d137b4",
   "metadata": {},
   "outputs": [
    {
     "data": {
      "text/plain": [
       "Оценка модели на тестовой выборке: RMSE    185.519639\n",
       "dtype: float64"
      ]
     },
     "execution_count": 29,
     "metadata": {},
     "output_type": "execute_result"
    }
   ],
   "source": [
    "batch_size = 1\n",
    "epochs = 1000\n",
    "lstm_cell = 4\n",
    "test_scaled_length = len(test_scaled)\n",
    "\n",
    "result_rmse, predictions = learn_model(x_train, y_train, batch_size, epochs, lstm_cell, raw_values, test_scaled_length, weigth_season)\n",
    "result_rmse"
   ]
  },
  {
   "cell_type": "markdown",
   "id": "00ddcb56",
   "metadata": {},
   "source": [
    "__График моделирования на тестовой выборке__"
   ]
  },
  {
   "cell_type": "code",
   "execution_count": 40,
   "id": "9241a826",
   "metadata": {},
   "outputs": [
    {
     "data": {
      "text/plain": [
       "<AxesSubplot:title={'center':'Прогноз на тестовой выборке модели LSTM'}, xlabel='Месяцы', ylabel='Потребление'>"
      ]
     },
     "execution_count": 40,
     "metadata": {},
     "output_type": "execute_result"
    },
    {
     "data": {
      "image/png": "[encoded data removed]",
      "text/plain": [
       "<Figure size 1080x504 with 1 Axes>"
      ]
     },
     "metadata": {},
     "output_type": "display_data"
    }
   ],
   "source": [
    "index_series = pd.date_range('2020-01-01', freq='M', periods=12)\n",
    "df_line = pd.DataFrame({'fact': series_graph.values[:12].reshape(1,-1)[0],\n",
    "                        'test': predictions}, index=index_series)\n",
    "\n",
    "fig, ax = plt.subplots(figsize=(15,7))\n",
    "sns.set_style('whitegrid', {'axes.grid': True})\n",
    "plt.grid(True)\n",
    "ax.set_title('Прогноз на тестовой выборке модели LSTM')\n",
    "plt.xlabel('Месяцы')\n",
    "plt.ylabel('Потребление')\n",
    "\n",
    "sns.lineplot(data=df_line)"
   ]
  },
  {
   "cell_type": "markdown",
   "id": "8f8a188c",
   "metadata": {},
   "source": [
    "Модель рекуррентной нейронной сети LSTM в среднем ошибается на 185 млн.кВт ч. Такое отклонение от исходного временного ряда является достаточно большим.  \n",
    "Преимущество модели LSTM заключается в том, что она может учиться и запоминать длинные последовательности, не полагаясь на предварительно заданное наблюдение с задержкой в окне в качестве входных данных. В рамках работы с временными рядами модели LSTM используют для прогнозирования, подгонки или переопределения обучающего набора данных, а также для обнаружения аномалий. Несмотря на это модель LSTM плохо справляется с прогнозированием одномерных временных рядов. Увеличение количества блоков памяти требует более длительного обучения модели, но не приводит к улучшению результатов. Такой результат обусловлен:  \n",
    "- маленьким объемом исходных данных\n",
    "- сложностью модели для применения к одномерным временным рядам"
   ]
  }
 ],
 "metadata": {
  "kernelspec": {
   "display_name": "Python 3.9.0 64-bit",
   "language": "python",
   "name": "python3"
  },
  "language_info": {
   "codemirror_mode": {
    "name": "ipython",
    "version": 3
   },
   "file_extension": ".py",
   "mimetype": "text/x-python",
   "name": "python",
   "nbconvert_exporter": "python",
   "pygments_lexer": "ipython3",
   "version": "3.9.0"
  },
  "vscode": {
   "interpreter": {
    "hash": "548c83946ac6174562a34cd30bb3bf23deaa49d6c7797d22dea96cb05ee08127"
   }
  }
 },
 "nbformat": 4,
 "nbformat_minor": 5
}
