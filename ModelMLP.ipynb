{
 "cells": [
  {
   "cell_type": "code",
   "execution_count": 2,
   "id": "bd09a0ba",
   "metadata": {},
   "outputs": [],
   "source": [
    "from math import sqrt\n",
    "\n",
    "import numpy as np\n",
    "import pandas as pd\n",
    "import matplotlib.pyplot as plt\n",
    "\n",
    "from numpy import array\n",
    "from numpy import mean\n",
    "from numpy import std\n",
    "from pandas import DataFrame\n",
    "from pandas import concat\n",
    "from pandas import read_csv\n",
    "from sklearn.metrics import mean_squared_error\n",
    "from keras.models import Sequential\n",
    "from keras.layers import Dense\n",
    "from keras.metrics import mean_squared_error\n",
    "from matplotlib import pyplot\n",
    "from sklearn.preprocessing import MinMaxScaler\n",
    "import seaborn as sns"
   ]
  },
  {
   "cell_type": "markdown",
   "id": "16d142c9",
   "metadata": {},
   "source": [
    "## Прогнозирование временного ряда моделью MLP"
   ]
  },
  {
   "cell_type": "markdown",
   "id": "4cdaafcb",
   "metadata": {},
   "source": [
    "__Функция разделения данных на обучение и тест__"
   ]
  },
  {
   "cell_type": "code",
   "execution_count": 47,
   "id": "73acf993",
   "metadata": {},
   "outputs": [],
   "source": [
    "# функция разделения данных на \n",
    "def train_test_split(data, n_test):\n",
    "    return data[:-n_test], data[-n_test:]"
   ]
  },
  {
   "cell_type": "markdown",
   "id": "551632d5",
   "metadata": {},
   "source": [
    "__Преобразование данных в контролируемую задачу обучения__"
   ]
  },
  {
   "cell_type": "code",
   "execution_count": 48,
   "id": "d098b183",
   "metadata": {},
   "outputs": [],
   "source": [
    "# преобразование данных в контролируемую задачу обучения\n",
    "def series_to_supervised(data, n_in, n_out=1):\n",
    "    df = pd.DataFrame(data)\n",
    "    cols = list()\n",
    "    for i in range(n_in, 0, -1):\n",
    "        cols.append(df.shift(i))\n",
    "    for i in range(0, n_out):\n",
    "        cols.append(df.shift(-i))\n",
    "    agg = concat(cols, axis=1)\n",
    "    agg.dropna(inplace=True)\n",
    "    return agg.values"
   ]
  },
  {
   "cell_type": "markdown",
   "id": "29b41daa",
   "metadata": {},
   "source": [
    "__Функция создания дифференцированного ряда (убираем тренд и сезонность)__"
   ]
  },
  {
   "cell_type": "code",
   "execution_count": 49,
   "id": "07bcdb5f",
   "metadata": {},
   "outputs": [],
   "source": [
    "# функция создания дифференцированного ряда (убираем тренд и сезонность)\n",
    "def difference(dataset, interval=1):\n",
    "    diff = list()\n",
    "    for i in range(interval, len(dataset)):\n",
    "        value = dataset[i] - dataset[i - interval]\n",
    "        diff.append(value)\n",
    "    diff = np.array(diff)\n",
    "    return diff"
   ]
  },
  {
   "cell_type": "code",
   "execution_count": 50,
   "id": "96a9a31a",
   "metadata": {},
   "outputs": [],
   "source": [
    "# инвертировать разностное значение (возвращаем удаленную компоненту ряда)\n",
    "def inverse_difference(history, yhat, interval=1):\n",
    "    return yhat + history[-interval]"
   ]
  },
  {
   "cell_type": "markdown",
   "id": "91186dfb",
   "metadata": {},
   "source": [
    "__Функция масштабирования обучающих и тестовых данных__"
   ]
  },
  {
   "cell_type": "code",
   "execution_count": 51,
   "id": "3358e46a",
   "metadata": {},
   "outputs": [],
   "source": [
    "# масштабирование\n",
    "def scale(data):\n",
    "    data_reshape = data.reshape(-1, 1)\n",
    "    scaler = MinMaxScaler(feature_range=(-1, 1))\n",
    "    scaler = scaler.fit(data_reshape)\n",
    "    scaled_data = scaler.transform(data_reshape)\n",
    "    return scaler, scaled_data"
   ]
  },
  {
   "cell_type": "code",
   "execution_count": 52,
   "id": "a47da5be",
   "metadata": {},
   "outputs": [],
   "source": [
    "# инвертирование масштабирования\n",
    "def invert_scale(scaler, X, value):\n",
    "    new_row = [x for x in X] + [value]\n",
    "    array = np.array(new_row)\n",
    "    array = array.reshape(1, len(array))\n",
    "    inverted = scaler.inverse_transform(array)\n",
    "    return inverted[0, -1]"
   ]
  },
  {
   "cell_type": "markdown",
   "id": "79df2e5f",
   "metadata": {},
   "source": [
    "__Оценка модели (RMSE)__"
   ]
  },
  {
   "cell_type": "code",
   "execution_count": 53,
   "id": "4dda782b",
   "metadata": {},
   "outputs": [],
   "source": [
    "def measure_rmse(actual, predicted):\n",
    "    return sqrt(mean_squared_error(actual, predicted))"
   ]
  },
  {
   "cell_type": "markdown",
   "id": "f45ecb2d",
   "metadata": {},
   "source": [
    "__Обучение модели__"
   ]
  },
  {
   "cell_type": "code",
   "execution_count": 54,
   "id": "927bd158",
   "metadata": {},
   "outputs": [],
   "source": [
    "# обучение модели\n",
    "def model_fit(train, config):\n",
    "    # параметры конфигурации модели\n",
    "    n_input, n_nodes, n_epochs, n_batch = config\n",
    "    # преобразование данных в контролируемую задачу обучения\n",
    "    data = series_to_supervised(train, n_input)\n",
    "    train_x, train_y = data[:, :-1], data[:, -1]\n",
    "    # формирование модели\n",
    "    model = Sequential()\n",
    "    model.add(Dense(n_nodes, activation='relu', input_dim=n_input))\n",
    "    model.add(Dense(1))\n",
    "    model.compile(loss='mse', optimizer='adam')\n",
    "    # обучение\n",
    "    model.fit(train_x, train_y, epochs=n_epochs, batch_size=n_batch, verbose=0)\n",
    "    return model"
   ]
  },
  {
   "cell_type": "markdown",
   "id": "f9257206",
   "metadata": {},
   "source": [
    "__Построение прогноза__"
   ]
  },
  {
   "cell_type": "code",
   "execution_count": 55,
   "id": "0a1e7c1a",
   "metadata": {},
   "outputs": [],
   "source": [
    "# функция построения прогноза\n",
    "def model_predict(model, history, config):\n",
    "    # параметры конфигурации\n",
    "    n_input, _, _, _ = config\n",
    "    # формирование данных для прогноза\n",
    "    x_input = array(history[-n_input:]).reshape(1, n_input)\n",
    "    # прогноз\n",
    "    yhat = model.predict(x_input, verbose=0)\n",
    "    return yhat[0]"
   ]
  },
  {
   "cell_type": "markdown",
   "id": "19f996fd",
   "metadata": {},
   "source": [
    "__Пошаговая проверка одномерных данных__"
   ]
  },
  {
   "cell_type": "code",
   "execution_count": 79,
   "id": "f304bd05",
   "metadata": {},
   "outputs": [],
   "source": [
    "def walk_forward_validation(data, n_test, cfg):\n",
    "    # список для тестирования\n",
    "    predictions_test = list()\n",
    "    # вектор из X\n",
    "    x_temp = np.array([])\n",
    "    # прогноз на n - шагов вперед\n",
    "    predictions = list()\n",
    "    # масштабирование данных\n",
    "    scaler, scaled_data = scale(data)\n",
    "    # разделение данных на обучение, тест (n_test - количество объектов тестовую выборку)\n",
    "    train, test = train_test_split(scaled_data, n_test)\n",
    "    # обучение модели\n",
    "    model = model_fit(train, cfg)\n",
    "    # формирование списка исторических данных из train\n",
    "    history_train = [x for x in train]\n",
    "    # формирования списка исторических данных из test\n",
    "    history_test = [x for x in test]\n",
    "    # пошаговое построение одинарных прогнозов по размеру тестовой выборки\n",
    "    for i in range(len(test)):\n",
    "        # построение одношагового прогноза\n",
    "        yhat = model_predict(model, history_train, cfg)\n",
    "        # инвертирование масштабирования\n",
    "        yhat = invert_scale(scaler, history_train, yhat)\n",
    "        # записть прогноза в список\n",
    "        predictions_test.append(yhat)\n",
    "        # добавление значения из тестовой выборки в исторические данные для построения дальнейших прогнозов\n",
    "        history_train.append(test[i])\n",
    "    # рассчет метрики модели\n",
    "    rmse = measure_rmse(data[-n_test:].reshape(1,-1)[0], predictions_test)\n",
    "    result_rmse = pd.Series({\"Оценка модели на тестовой выборке: RMSE\": rmse})\n",
    "    return result_rmse, predictions_test"
   ]
  },
  {
   "cell_type": "markdown",
   "id": "e6572b12",
   "metadata": {},
   "source": [
    "__Обучение и оценка модели__"
   ]
  },
  {
   "cell_type": "code",
   "execution_count": 77,
   "id": "634354c3",
   "metadata": {},
   "outputs": [
    {
     "data": {
      "text/plain": [
       "(                    All\n",
       " 2016-01-31  1239.807717\n",
       " 2016-02-29  1082.035863\n",
       " 2016-03-31  1104.730841\n",
       " 2016-04-30   897.962429\n",
       " 2016-05-31   840.153646,\n",
       " array([[1239.807717],\n",
       "        [1082.035863],\n",
       "        [1104.730841],\n",
       "        [ 897.962429],\n",
       "        [ 840.153646]]))"
      ]
     },
     "execution_count": 77,
     "metadata": {},
     "output_type": "execute_result"
    }
   ],
   "source": [
    "df = pd.read_excel(\"D:/Datasets/regression/all_fact16-20.xlsx\", engine=\"openpyxl\")\n",
    "data = df['all'].values[:60]\n",
    "\n",
    "# задаем индекс временного ряда\n",
    "index_series = pd.date_range('2016-01-31', freq='M', periods=60)\n",
    "\n",
    "# данные для графика (преобразуем в фрейм данных с нужным индексом)\n",
    "series_graph = pd.DataFrame({'All':data}, index=index_series)\n",
    "data = data.reshape(-1, 1)\n",
    "series_graph.head(), data[:5]"
   ]
  },
  {
   "cell_type": "code",
   "execution_count": 83,
   "id": "b1b54dae",
   "metadata": {},
   "outputs": [
    {
     "data": {
      "text/plain": [
       "Оценка модели на тестовой выборке: RMSE    78.701159\n",
       "dtype: float64"
      ]
     },
     "execution_count": 83,
     "metadata": {},
     "output_type": "execute_result"
    }
   ],
   "source": [
    "# параметры config:\n",
    "# 1. n_input - количество наблюдений с запаздыванием, которые будут использоваться в качестве входных данных для модели.\n",
    "# 2. n_nodes - количество узлов, которые будут использоваться в скрытом слое.\n",
    "# 3. n_epochs - количество раз, когда необходимо подвергнуть модель воздействию всего обучающего набора данных.\n",
    "# 4. n_batch - количество выборок в течение периода, после которого веса обновляются.\n",
    "\n",
    "n_input = 3\n",
    "n_nodes = 200\n",
    "n_epochs = 1000\n",
    "n_batch = 250\n",
    "# размер тестовой выборки\n",
    "n_test = 12\n",
    "# конфигурация параметров\n",
    "config = [n_input, n_nodes, n_epochs, n_batch]\n",
    "\n",
    "rmse, predictions = walk_forward_validation(data, n_test, config)\n",
    "rmse"
   ]
  },
  {
   "cell_type": "markdown",
   "id": "5a2eceed",
   "metadata": {},
   "source": [
    "__График моделирования на тестовой выборке__"
   ]
  },
  {
   "cell_type": "code",
   "execution_count": 84,
   "id": "3d2b22ca",
   "metadata": {},
   "outputs": [
    {
     "data": {
      "text/plain": [
       "<AxesSubplot:title={'center':'Прогноз на тестовой выборке модели MLP'}, xlabel='Месяцы', ylabel='Потребление'>"
      ]
     },
     "execution_count": 84,
     "metadata": {},
     "output_type": "execute_result"
    },
    {
     "data": {
      "image/png": "[encoded data removed]",
      "text/plain": [
       "<Figure size 1080x504 with 1 Axes>"
      ]
     },
     "metadata": {},
     "output_type": "display_data"
    }
   ],
   "source": [
    "index_series = pd.date_range('2020-01-01', freq='M', periods=12)\n",
    "df_line = pd.DataFrame({'fact': series_graph.values[:12].reshape(1,-1)[0],\n",
    "                        'test': predictions}, index=index_series)\n",
    "\n",
    "fig, ax = plt.subplots(figsize=(15,7))\n",
    "sns.set_style('whitegrid', {'axes.grid': True})\n",
    "plt.grid(True)\n",
    "ax.set_title('Прогноз на тестовой выборке модели MLP')\n",
    "plt.xlabel('Месяцы')\n",
    "plt.ylabel('Потребление')\n",
    "\n",
    "sns.lineplot(data=df_line)"
   ]
  },
  {
   "cell_type": "markdown",
   "id": "d2328912",
   "metadata": {},
   "source": [
    "Модель многослойного персептрона (MLP) в среднем ошибается на 78 млн.кВт ч. Модель не плохо улавливает тенденцию временного ряда. Однако такое отклонение от исходного временного ряда остается достаточно большим. Такой результат обусловлен:  \n",
    "\n",
    "- маленьким объемом исходных данных\n",
    "- особенностью структуры модели  \n",
    "\n",
    "В структуре MLP в отличии от LSTM не учитывается механизм памяти для хранения информации за предыдущее временные шаги. Однако модель лучше справилась чем LSTM. Также на MLP влияет ключевое ограничение, в виде диапазона временной корреляции между наблюдениями. Он должен быть четко указан при моделировании. Модель многослойного персептрона может использоваться как отправная точка для моделирования задач предсказания последовательности."
   ]
  }
 ],
 "metadata": {
  "kernelspec": {
   "display_name": "Python 3.9.0 64-bit",
   "language": "python",
   "name": "python3"
  },
  "language_info": {
   "codemirror_mode": {
    "name": "ipython",
    "version": 3
   },
   "file_extension": ".py",
   "mimetype": "text/x-python",
   "name": "python",
   "nbconvert_exporter": "python",
   "pygments_lexer": "ipython3",
   "version": "3.9.0"
  },
  "vscode": {
   "interpreter": {
    "hash": "548c83946ac6174562a34cd30bb3bf23deaa49d6c7797d22dea96cb05ee08127"
   }
  }
 },
 "nbformat": 4,
 "nbformat_minor": 5
}
